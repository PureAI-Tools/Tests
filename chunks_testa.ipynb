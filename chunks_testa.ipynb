{
  "cells": [
    {
      "cell_type": "code",
      "execution_count": null,
      "metadata": {
        "colab": {
          "base_uri": "https://localhost:8080/"
        },
        "id": "7dtgLxkQBVU4",
        "outputId": "6b4302f6-0069-42e5-8887-3b47b613f422"
      },
      "outputs": [],
      "source": [
        "# !pip install purecpp_extract purecpp_chunks_clean"
      ]
    },
    {
      "cell_type": "code",
      "execution_count": null,
      "metadata": {
        "id": "Id24_ARrT_KY"
      },
      "outputs": [],
      "source": [
        "# !git clone https://github.com/PureAI-Tools/Tests.git # comentar isso no jupiter local \n",
        "API_KEY = \"\""
      ]
    },
    {
      "cell_type": "code",
      "execution_count": null,
      "metadata": {
        "id": "TAd_tzUZBVU5"
      },
      "outputs": [],
      "source": [
        "import purecpp_extract as ext\n",
        "import purecpp_chunks_clean as cc\n",
        "from purecpp_libs import DataExtractRequestStruct, LoaderDataStruct, RAGDocument"
      ]
    },
    {
      "cell_type": "code",
      "execution_count": null,
      "metadata": {
        "id": "UZD-yrgDBVU5"
      },
      "outputs": [],
      "source": [
        "pdf_loader = ext.PDFLoader()\n",
        "pdf_loader2 = ext.PDFLoader()\n",
        "pdf_loader3 = ext.PDFLoader()"
      ]
    },
    {
      "cell_type": "code",
      "execution_count": null,
      "metadata": {
        "id": "bQJYoK9vBVU5"
      },
      "outputs": [],
      "source": [
        "docxLoader = ext.DOCXLoader()\n",
        "docxLoader2 = ext.DOCXLoader()"
      ]
    },
    {
      "cell_type": "code",
      "execution_count": null,
      "metadata": {
        "colab": {
          "base_uri": "https://localhost:8080/"
        },
        "id": "hetDV2BWBVU5",
        "outputId": "98784087-4e9f-480d-f275-030e0949d007"
      },
      "outputs": [],
      "source": [
        "var = pdf_loader.InsertDataToExtract([\n",
        "        DataExtractRequestStruct(\"pdfs/1984.pdf\"),\n",
        "        DataExtractRequestStruct(\"pdfs/a-christmas-carol.pdf\"),\n",
        "    ]) # No jupiter ta imprimindo q tao sendo achados arquivos aqui n\n",
        "print(f\"Content : \\n {var}\") # Poderia..."
      ]
    },
    {
      "cell_type": "code",
      "execution_count": null,
      "metadata": {
        "id": "zDJhPHARBVU6"
      },
      "outputs": [],
      "source": [
        "# pdf_loader2.InsertDataToExtract([DataExtractRequestStruct(\"pdfs\")]) # deveria dar erro"
      ]
    },
    {
      "cell_type": "code",
      "execution_count": null,
      "metadata": {
        "id": "oSTt3r20BVU6"
      },
      "outputs": [],
      "source": [
        "pdf_loader3.InsertDataToExtract([DataExtractRequestStruct(\"pdfs/1984.pdf\")])"
      ]
    },
    {
      "cell_type": "code",
      "execution_count": null,
      "metadata": {
        "id": "J1VwPoL0BVU6"
      },
      "outputs": [],
      "source": [
        "docxLoader.InsertDataToExtract([\n",
        "        DataExtractRequestStruct(\"docxs/sample1.docx\"),\n",
        "        DataExtractRequestStruct(\"docxs/sample4.docx\")\n",
        "    ]) # Tem que avisar que n encontra a pasta ou o arquivo na pasta se n o encontrar"
      ]
    },
    {
      "cell_type": "code",
      "execution_count": null,
      "metadata": {
        "id": "rydW1EdIBVU6"
      },
      "outputs": [],
      "source": [
        "docxLoader2.InsertDataToExtract([DataExtractRequestStruct(\"docxs\")])"
      ]
    },
    {
      "cell_type": "code",
      "execution_count": null,
      "metadata": {
        "colab": {
          "base_uri": "https://localhost:8080/"
        },
        "id": "S3NCE2x2BVU6",
        "outputId": "3cbbc2ae-3545-4648-dc24-6646af1f800b"
      },
      "outputs": [],
      "source": [
        "opt_struct = pdf_loader.GetTextContent(\"1984\") # N retorna um tipo string\n",
        "text_content = str(opt_struct)\n",
        "text_content_limited = text_content[:100]\n",
        "# print(text_content_limited)\n",
        "for i in range(3):\n",
        "  print(opt_struct.textContent[i:i+1])\n",
        "  print(\"\\n\")\n",
        "\n",
        "print(f\"{len(opt_struct.textContent)} Pages\")# Isso salva como paginas\n",
        "\n"
      ]
    },
    {
      "cell_type": "code",
      "execution_count": null,
      "metadata": {},
      "outputs": [],
      "source": [
        "print(type(opt_struct))\n",
        "for item in dir(opt_struct):\n",
        "    print(item)\n",
        "print(type(dir(opt_struct)))\n",
        "# help(opt_struct)\n",
        "type(opt_struct.textContent)"
      ]
    },
    {
      "cell_type": "code",
      "execution_count": null,
      "metadata": {
        "colab": {
          "base_uri": "https://localhost:8080/"
        },
        "id": "bv67-1GGJAu0",
        "outputId": "5321a39a-84f9-4c5a-8028-c5d7f90b5bf6"
      },
      "outputs": [],
      "source": [
        "for attr_name in dir(opt_struct):\n",
        "    if not attr_name.startswith(\"__\"):  # Ignora atributos internos\n",
        "        try:\n",
        "            value = getattr(opt_struct, attr_name)\n",
        "            if attr_name == \"textContent\":\n",
        "                print(f\"{attr_name}: Is a list of {len(value)} Pages\")\n",
        "                print(f\"Page 0 {attr_name} :\\n{value[0]} \")\n",
        "            else:\n",
        "              print(f\"{attr_name}: {value}\")\n",
        "            print(\"----------------------------------------------\")\n",
        "        except AttributeError:\n",
        "            print(f\"{attr_name}: [não acessível]\")"
      ]
    },
    {
      "cell_type": "code",
      "execution_count": null,
      "metadata": {
        "colab": {
          "base_uri": "https://localhost:8080/"
        },
        "id": "u6UQu19NBVU6",
        "outputId": "66540bd6-206c-4f77-8ba4-1e93284e8c0f"
      },
      "outputs": [],
      "source": [
        "pdf_loader.GetTextContent(\"1984\")"
      ]
    },
    {
      "cell_type": "code",
      "execution_count": null,
      "metadata": {
        "colab": {
          "base_uri": "https://localhost:8080/"
        },
        "id": "aPEMKujoOspw",
        "outputId": "c9b9674d-76a0-41ad-f995-e097041de9a3"
      },
      "outputs": [],
      "source": [
        "if not pdf_loader3.GetTextContent(\"a-christmas-carol\"): # DEVERIA DAR ERRO\n",
        "    print(\"deu erro\")"
      ]
    },
    {
      "cell_type": "code",
      "execution_count": null,
      "metadata": {
        "id": "9QBx5UpKBVU7"
      },
      "outputs": [],
      "source": [
        "pdf_loader3.GetTextContent(\"sdauhdsahudsauhdsahuds\") # DEVERIA DAR ERRO"
      ]
    },
    {
      "cell_type": "code",
      "execution_count": null,
      "metadata": {
        "id": "mfJHH8uJP84r"
      },
      "outputs": [],
      "source": [
        "# print(type(pdf_loader))\n",
        "# for item in dir(pdf_loader):\n",
        "#     print(item)\n",
        "# print(type(dir(pdf_loader)))"
      ]
    },
    {
      "cell_type": "code",
      "execution_count": null,
      "metadata": {
        "id": "bxGLAn7iSqOi"
      },
      "outputs": [],
      "source": [
        "# help(pdf_loader)"
      ]
    },
    {
      "cell_type": "code",
      "execution_count": null,
      "metadata": {
        "colab": {
          "base_uri": "https://localhost:8080/"
        },
        "id": "Z5b8RLZ8BVU7",
        "outputId": "0c420109-123b-4b20-fb52-d533e06b3599"
      },
      "outputs": [],
      "source": [
        "items_docx = []\n",
        "\n",
        "for fname in [\"sample1\", \"sample4\"]: # poderia ter um metodo para recuperar as listas naquela List de LoaderDataStruct < --------------- >\n",
        "    x = docxLoader.GetTextContent(fname)\n",
        "    if x:\n",
        "        items_docx.append(x.textContent)  # cada item é um List em LoaderDataStruct\n",
        "    else:\n",
        "        print(f\"Não foi possível extrair: {fname}\")\n",
        "if not items_docx:\n",
        "        print(\"Nenhum documento foi carregado com sucesso! Encerrando.\")\n",
        "print(f\"Total de documentos carregados: {len(items_docx)}\\n\")"
      ]
    },
    {
      "cell_type": "code",
      "execution_count": null,
      "metadata": {
        "colab": {
          "base_uri": "https://localhost:8080/"
        },
        "id": "kRrzy5w2BVU7",
        "outputId": "d9c7d506-b274-4798-acf6-c10dc474c0c2"
      },
      "outputs": [],
      "source": [
        "items = []\n",
        "item_struct =  []\n",
        "\n",
        "for fname in [\"1984\", \"a-christmas-carol\"]: # poderia ter um metodo para recuperar as listas naquela List de LoaderDataStruct < --------------- >\n",
        "    opt_struct = pdf_loader.GetTextContent(fname)\n",
        "    if opt_struct:\n",
        "        items.append(opt_struct.textContent)   # cada item é um List em LoaderDataStruct\n",
        "        item_struct.append(opt_struct) # cada item é LoaderDataStruct\n",
        "    else:\n",
        "        print(f\"Não foi possível extrair: {fname}\")\n",
        "if not items:\n",
        "        print(\"Nenhum documento foi carregado com sucesso! Encerrando.\")\n",
        "print(f\"Total de documentos carregados: {len(items)}\\n\")"
      ]
    },
    {
      "cell_type": "code",
      "execution_count": null,
      "metadata": {
        "colab": {
          "base_uri": "https://localhost:8080/"
        },
        "id": "VWxrWtxABVU7",
        "outputId": "89a8b0c8-45c6-43e8-9f0a-19c4aaa3adf1"
      },
      "outputs": [],
      "source": [
        "print(\"---------------------------------------------------------\")\n",
        "for i, lds in enumerate(item_struct):\n",
        "    print(f\"--- LoaderDataStruct nº {i} ---\")\n",
        "\n",
        "    print(\">> METADATA:\")\n",
        "    for mk, mv in lds.metadata.items():\n",
        "        print(f\"   {mk} => {mv}\")\n",
        "\n",
        "    print(f\"\\n>> TEXT CONTENT=> {lds.textContent[10][:100]} ...\")\n",
        "    print()\n",
        "print(\"---------------------------------------------------------\")"
      ]
    },
    {
      "cell_type": "code",
      "execution_count": null,
      "metadata": {
        "id": "FULkiChjBVU7"
      },
      "outputs": [],
      "source": [
        "# 2) CHUNKANDO COM ChunkDefault\n",
        "#    (divide texto em blocos de 300 chars, com overlap=50)\n",
        "# default_chunker = cc.ChunkDefault(chunk_size=300, overlap=50)\n",
        "default_chunker = cc.ChunkDefault(50, 10) # poderia passar o item ja aqui\n",
        "default_chunker2 = cc.ChunkDefault(50, 10)"
      ]
    },
    {
      "cell_type": "code",
      "execution_count": null,
      "metadata": {
        "id": "wAFR3RUpBVU7"
      },
      "outputs": [],
      "source": [
        "# std::vector<RAGLibrary::Document> ProcessSingleDocument(RAGLibrary::LoaderDataStruct &item);\n",
        "default_docs = default_chunker.ProcessData(item_struct[0])\n",
        "# std::vector<RAGLibrary::Document> ProcessDocuments(const std::vector<RAGLibrary::LoaderDataStruct> &items, int max_workers = 4);\n",
        "default_docs2 = default_chunker2.ProcessData(item_struct, max_workers=2) # Tem q ser uma lista de purecpp_libs.purecpp_libs.LoaderDataStruct"
      ]
    },
    {
      "cell_type": "code",
      "execution_count": null,
      "metadata": {
        "colab": {
          "base_uri": "https://localhost:8080/"
        },
        "id": "ZjA8yE8jBVU8",
        "outputId": "cf4f33dd-ac4c-4fd4-82a2-a8991c17e358"
      },
      "outputs": [],
      "source": [
        "print(f\"ChunkDefault(50, 10) from  documents.size={len(default_docs)}\")\n",
        "print(f\"ChunkDefault(50, 10) from  documents.size={len(default_docs2)}\")"
      ]
    },
    {
      "cell_type": "code",
      "execution_count": null,
      "metadata": {
        "id": "iduy2eP_OHqY"
      },
      "outputs": [],
      "source": [
        "# print(type(default_docs[0])) # purecpp_libs.purecpp_libs.RAGDocument\n",
        "# for item in dir(default_docs[0]):\n",
        "#     print(item)"
      ]
    },
    {
      "cell_type": "code",
      "execution_count": null,
      "metadata": {
        "id": "STSz0CSLOg_c"
      },
      "outputs": [],
      "source": [
        "# default_docs[0]\n",
        "# help(default_docs)"
      ]
    },
    {
      "cell_type": "code",
      "execution_count": null,
      "metadata": {
        "colab": {
          "base_uri": "https://localhost:8080/"
        },
        "id": "ily7TuhZBVU8",
        "outputId": "617a780f-0eeb-40fb-868b-8d58cc56f175"
      },
      "outputs": [],
      "source": [
        "\n",
        "print(\"-----------------------------------------------------------------------------------------\")\n",
        "print(\"default\")\n",
        "list_default_docs = []\n",
        "# Garantir que temos ao menos 3 elementos\n",
        "n = len(default_docs)\n",
        "first_n = default_docs[:3]            # primeiros 3\n",
        "last_n = default_docs[-3:] if n >= 3 else []  # últimos 3 (sem repetir os primeiros)\n",
        "# Adiciona os page_content dos primeiros\n",
        "for i, doc in enumerate(first_n):\n",
        "    print(f\"Primeiro [{i}] METADATA =>\", doc.metadata)\n",
        "    list_default_docs.append(doc.page_content)\n",
        "# Adiciona os page_content dos últimos\n",
        "for i, doc in enumerate(last_n):\n",
        "    print(f\"Último [{n - 3 + i}] METADATA =>\", doc.metadata)\n",
        "    list_default_docs.append(doc.page_content)\n",
        "\n",
        "print(\"-----------------------------------------------------------------------------------------\")\n",
        "print(\"default 2\")\n",
        "list_default_docs2 = []\n",
        "# Garantir que temos ao menos 3 elementos\n",
        "n = len(default_docs2)\n",
        "first_n = default_docs2[:3]            # primeiros 3\n",
        "last_n = default_docs2[-3:] if n >= 3 else []  # últimos 3 (sem repetir os primeiros)\n",
        "# Adiciona os page_content dos primeiros\n",
        "for i, doc in enumerate(first_n):\n",
        "    print(f\"Primeiro [{i}] METADATA =>\", doc.metadata)\n",
        "    list_default_docs2.append(doc.page_content)\n",
        "# Adiciona os page_content dos últimos\n",
        "for i, doc in enumerate(last_n):\n",
        "    print(f\"Último [{n - 3 + i}] METADATA =>\", doc.metadata)\n",
        "    list_default_docs2.append(doc.page_content)\n",
        "print(\"-----------------------------------------------------------------------------------------\")"
      ]
    },
    {
      "cell_type": "code",
      "execution_count": null,
      "metadata": {},
      "outputs": [],
      "source": [
        "for i, doc in enumerate(list_default_docs):\n",
        "    print(f\" {i}:  {doc} ...\")\n",
        "print(\"-----------------------------------------------------------------------------------------\")\n",
        "\n",
        "for i, doc in enumerate(list_default_docs2):\n",
        "    print(f\" {i}:  {doc} ...\")\n",
        "print(\"-----------------------------------------------------------------------------------------\")"
      ]
    },
    {
      "cell_type": "code",
      "execution_count": null,
      "metadata": {},
      "outputs": [],
      "source": [
        "try:\n",
        "    openai_emb = cc.EmbeddingOpeanAI(\n",
        "        list_default_docs, \n",
        "        API_KEY,\n",
        "    )\n",
        "    print(f\"[EmbeddingOpeanAI] Embedding gerada com dim={len(openai_emb[0])}\")\n",
        "    print(type(openai_emb))\n",
        "    for i, item in enumerate(openai_emb):\n",
        "        print(f\"{i}:\")\n",
        "        print(type(item))\n",
        "        print(item)\n",
        "\n",
        "    # (c) Normalizar a primeira embedding\n",
        "    print(\"\\n\\n\\n\")\n",
        "    cc.NormalizeEmbeddings(openai_emb[0])\n",
        "except Exception as e:\n",
        "    print(\"Não foi possível gerar embeddings com OpenAI (talvez sem chave válida):\", e)\n",
        "print()"
      ]
    },
    {
      "cell_type": "code",
      "execution_count": null,
      "metadata": {
        "id": "TC3FnO6STE3s"
      },
      "outputs": [],
      "source": [
        "# ----------------------------------------------------------------------------------------------------------------------------------------------------------------------------------------------"
      ]
    },
    {
      "cell_type": "code",
      "execution_count": null,
      "metadata": {
        "id": "bTQoEHv-BVU8"
      },
      "outputs": [],
      "source": [
        "# 3) CHUNKANDO COM ChunkCount (divide texto a cada pontuação final, usando regex, overlap menor)\n",
        "# ChunkCount(const std::string &count_unit, const int overlap = 600, const int count_threshold = 1);\n",
        "count_chunker = cc.ChunkCount(\"regex:[.!?]+\", overlap=10, count_threshold=1)\n",
        "count_chunker2 = cc.ChunkCount(\"regex:[.!?]+\", overlap=10, count_threshold=1)"
      ]
    },
    {
      "cell_type": "code",
      "execution_count": null,
      "metadata": {
        "id": "2SeCahSTBVU8"
      },
      "outputs": [],
      "source": [
        "# std::vector<RAGLibrary::Document> ProcessData(RAGLibrary::LoaderDataStruct &item);\n",
        "count_docs = count_chunker.ProcessData(item_struct[0])\n",
        "# std::vector<RAGLibrary::Document> ProcessData(const std::vector<RAGLibrary::LoaderDataStruct> &items, int max_workers = 4);\n",
        "count_docs2 = count_chunker2.ProcessData(item_struct, max_workers=5) "
      ]
    },
    {
      "cell_type": "code",
      "execution_count": null,
      "metadata": {
        "colab": {
          "base_uri": "https://localhost:8080/"
        },
        "id": "_29mUNwnBVU8",
        "outputId": "c48749d4-6b4e-4bed-b697-c2c95b98763c"
      },
      "outputs": [],
      "source": [
        "print(f\"ChunkCount from {len(count_docs)}\")\n",
        "print(f\"ChunkCount2 from {len(count_docs2)}\")"
      ]
    },
    {
      "cell_type": "code",
      "execution_count": null,
      "metadata": {
        "id": "RV2_9DJDBVU8"
      },
      "outputs": [],
      "source": [
        "\n",
        "print(\"-----------------------------------------------------------------------------------------\")\n",
        "print(\"Count\")\n",
        "list_count_docs = []\n",
        "prev_m = None\n",
        "for i, doc in enumerate(count_docs):\n",
        "    if i > 3: break\n",
        "    if doc.metadata != prev_m or prev_m is None:\n",
        "        print(\" METADATA =>\", doc.metadata)\n",
        "    print(type(doc))\n",
        "    print(type(doc.page_content))\n",
        "    list_count_docs.append(doc.page_content)\n",
        "    print(f\"{i}:  {doc}\")\n",
        "    prev_m = doc.metadata\n",
        "\n",
        "print(\"-----------------------------------------------------------------------------------------\")\n",
        "print(\"Count 2\")\n",
        "list_count_docs2 = []\n",
        "prev_m = None\n",
        "for i, doc in enumerate(count_docs2):\n",
        "    if i > 3: break\n",
        "    if doc.metadata != prev_m or prev_m is None:\n",
        "        print(\" METADATA =>\", doc.metadata)\n",
        "    print(type(doc))\n",
        "    print(type(doc.page_content))\n",
        "    list_count_docs2.append(doc.page_content)\n",
        "    print(f\"{i}:  {doc}\")\n",
        "    prev_m = doc.metadata\n",
        "print(\"-----------------------------------------------------------------------------------------\")"
      ]
    },
    {
      "cell_type": "code",
      "execution_count": null,
      "metadata": {},
      "outputs": [],
      "source": [
        "for i, doc in enumerate(list_count_docs):\n",
        "    print(f\" {i}:  {doc[:70]} ...\")\n",
        "print(\"-----------------------------------------------------------------------------------------\")\n",
        "\n",
        "for i, doc in enumerate(list_count_docs2):\n",
        "    print(f\" {i}:  {doc[:70]} ...\")\n",
        "print(\"-----------------------------------------------------------------------------------------\")"
      ]
    },
    {
      "cell_type": "code",
      "execution_count": null,
      "metadata": {
        "colab": {
          "base_uri": "https://localhost:8080/"
        },
        "id": "FUuJZVCbBVU8",
        "outputId": "81a7cc17-567a-4de5-d756-a73e3f84286a"
      },
      "outputs": [],
      "source": [
        "# 4) USANDO ALGUMAS FUNÇÕES DE CHUNKCOMMONS MANUALMENTE\n",
        "#    Exemplo:  (a) Dividir manualmente um texto e (b) Gerar embeddings via OpenAI\n",
        "#    (c) Normalizar e exibir a embedding\n",
        "\n",
        "# (a) SplitText manual\n",
        "text_example = [\"Este é um texto de exemplo.\", \"Ele será unido e fatiado em 50 chars com 10 de overlap.\"]\n",
        "splitted = cc.SplitText(text_example, overlap=10, chunk_size=50)\n",
        "print(f\"[SplitText] Gerei {len(splitted)} pedaços. Primeiro pedaço:\\n   {splitted[0]}\")"
      ]
    },
    {
      "cell_type": "code",
      "execution_count": null,
      "metadata": {
        "colab": {
          "base_uri": "https://localhost:8080/",
          "height": 211
        },
        "id": "3x20AwraBVU9",
        "outputId": "ed5ff1b8-f27e-42be-bc97-d92d824459f7"
      },
      "outputs": [],
      "source": [
        "# 5) USANDO FUNÇÕES DE EMBEDDINGS MANUALMENTE\n",
        "#    Exemplo:  (a) Gerar embeddings via OpenAI\n",
        "#    (b) Normalizar e exibir a embedding\n",
        "try:\n",
        "    openai_emb = cc.EmbeddingOpeanAI(\n",
        "        list_count_docs, # tem q ser uma lista de string\n",
        "        API_KEY,\n",
        "    )\n",
        "    print(f\"[EmbeddingOpeanAI] Embedding gerada com dim={len(openai_emb[0])} \")\n",
        "    for i, item in enumerate(openai_emb):\n",
        "        print(f\"{i}:\")\n",
        "        print(type(item))\n",
        "        print(item)\n",
        "\n",
        "    cc.NormalizeEmbeddings(openai_emb[0])\n",
        "except Exception as e:\n",
        "    print(\"Não foi possível gerar embeddings com OpenAI (talvez sem chave válida):\", e)\n",
        "print()"
      ]
    },
    {
      "cell_type": "code",
      "execution_count": null,
      "metadata": {
        "id": "9pvjnKx7BVU9"
      },
      "outputs": [],
      "source": []
    },
    {
      "cell_type": "code",
      "execution_count": null,
      "metadata": {
        "id": "4e1w9rbnBVU9"
      },
      "outputs": [],
      "source": []
    },
    {
      "cell_type": "code",
      "execution_count": null,
      "metadata": {
        "id": "lGpWCu2oBVU9"
      },
      "outputs": [],
      "source": []
    }
  ],
  "metadata": {
    "colab": {
      "provenance": []
    },
    "kernelspec": {
      "display_name": "venv",
      "language": "python",
      "name": "python3"
    },
    "language_info": {
      "codemirror_mode": {
        "name": "ipython",
        "version": 3
      },
      "file_extension": ".py",
      "mimetype": "text/x-python",
      "name": "python",
      "nbconvert_exporter": "python",
      "pygments_lexer": "ipython3",
      "version": "3.12.3"
    }
  },
  "nbformat": 4,
  "nbformat_minor": 0
}
