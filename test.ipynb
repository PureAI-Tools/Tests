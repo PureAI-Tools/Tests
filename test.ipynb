{
  "cells": [
    {
      "cell_type": "code",
      "execution_count": 1,
      "metadata": {
        "colab": {
          "base_uri": "https://localhost:8080/"
        },
        "id": "7dtgLxkQBVU4",
        "outputId": "6b4302f6-0069-42e5-8887-3b47b613f422"
      },
      "outputs": [
        {
          "name": "stdout",
          "output_type": "stream",
          "text": [
            "Requirement already satisfied: purecpp_extract in /usr/local/lib/python3.11/dist-packages (0.0.3)\n",
            "Requirement already satisfied: purecpp_chunks_clean in /usr/local/lib/python3.11/dist-packages (0.0.3)\n",
            "Requirement already satisfied: purecpp_libs in /usr/local/lib/python3.11/dist-packages (from purecpp_extract) (0.0.3)\n",
            "Requirement already satisfied: auditwheel in /usr/local/lib/python3.11/dist-packages (from purecpp_chunks_clean) (6.3.0)\n",
            "Requirement already satisfied: build in /usr/local/lib/python3.11/dist-packages (from purecpp_chunks_clean) (1.2.2.post1)\n",
            "Requirement already satisfied: requests in /usr/local/lib/python3.11/dist-packages (from purecpp_chunks_clean) (2.32.3)\n",
            "Requirement already satisfied: wheel in /usr/local/lib/python3.11/dist-packages (from purecpp_chunks_clean) (0.45.1)\n",
            "Requirement already satisfied: pybind11 in /usr/local/lib/python3.11/dist-packages (from purecpp_chunks_clean) (2.13.6)\n",
            "Requirement already satisfied: setuptools in /usr/local/lib/python3.11/dist-packages (from purecpp_chunks_clean) (75.2.0)\n",
            "Requirement already satisfied: packaging>=20.9 in /usr/local/lib/python3.11/dist-packages (from auditwheel->purecpp_chunks_clean) (24.2)\n",
            "Requirement already satisfied: pyelftools>=0.24 in /usr/local/lib/python3.11/dist-packages (from auditwheel->purecpp_chunks_clean) (0.32)\n",
            "Requirement already satisfied: pyproject_hooks in /usr/local/lib/python3.11/dist-packages (from build->purecpp_chunks_clean) (1.2.0)\n",
            "Requirement already satisfied: charset-normalizer<4,>=2 in /usr/local/lib/python3.11/dist-packages (from requests->purecpp_chunks_clean) (3.4.1)\n",
            "Requirement already satisfied: idna<4,>=2.5 in /usr/local/lib/python3.11/dist-packages (from requests->purecpp_chunks_clean) (3.10)\n",
            "Requirement already satisfied: urllib3<3,>=1.21.1 in /usr/local/lib/python3.11/dist-packages (from requests->purecpp_chunks_clean) (2.3.0)\n",
            "Requirement already satisfied: certifi>=2017.4.17 in /usr/local/lib/python3.11/dist-packages (from requests->purecpp_chunks_clean) (2025.1.31)\n"
          ]
        }
      ],
      "source": [
        "!pip install purecpp_extract purecpp_chunks_clean"
      ]
    }
  ],
  "metadata": {
    "colab": {
      "provenance": []
    },
    "kernelspec": {
      "display_name": "venv",
      "language": "python",
      "name": "python3"
    },
    "language_info": {
      "codemirror_mode": {
        "name": "ipython",
        "version": 3
      },
      "file_extension": ".py",
      "mimetype": "text/x-python",
      "name": "python",
      "nbconvert_exporter": "python",
      "pygments_lexer": "ipython3",
      "version": "3.12.3"
    }
  },
  "nbformat": 4,
  "nbformat_minor": 0
}
